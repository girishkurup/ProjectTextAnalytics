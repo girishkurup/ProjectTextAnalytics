{
 "cells": [
  {
   "cell_type": "markdown",
   "metadata": {},
   "source": [
    "# extract the nouns from the tweets and create a bar graph:"
   ]
  },
  {
   "cell_type": "code",
   "execution_count": 34,
   "metadata": {},
   "outputs": [
    {
     "name": "stdout",
     "output_type": "stream",
     "text": [
      "Requirement already satisfied: requests in /Users/prabhatjohl/anaconda3/lib/python3.6/site-packages\n",
      "Requirement already satisfied: chardet<3.1.0,>=3.0.2 in /Users/prabhatjohl/anaconda3/lib/python3.6/site-packages (from requests)\n",
      "Requirement already satisfied: idna<2.7,>=2.5 in /Users/prabhatjohl/anaconda3/lib/python3.6/site-packages (from requests)\n",
      "Requirement already satisfied: urllib3<1.23,>=1.21.1 in /Users/prabhatjohl/anaconda3/lib/python3.6/site-packages (from requests)\n",
      "Requirement already satisfied: certifi>=2017.4.17 in /Users/prabhatjohl/anaconda3/lib/python3.6/site-packages (from requests)\n",
      "Requirement already satisfied: Twitter in /Users/prabhatjohl/anaconda3/lib/python3.6/site-packages\n",
      "[nltk_data] Downloading package brown to\n",
      "[nltk_data]     /Users/prabhatjohl/nltk_data...\n",
      "[nltk_data]   Package brown is already up-to-date!\n",
      "[nltk_data] Downloading package punkt to\n",
      "[nltk_data]     /Users/prabhatjohl/nltk_data...\n",
      "[nltk_data]   Package punkt is already up-to-date!\n",
      "[nltk_data] Downloading package wordnet to\n",
      "[nltk_data]     /Users/prabhatjohl/nltk_data...\n",
      "[nltk_data]   Package wordnet is already up-to-date!\n",
      "[nltk_data] Downloading package averaged_perceptron_tagger to\n",
      "[nltk_data]     /Users/prabhatjohl/nltk_data...\n",
      "[nltk_data]   Package averaged_perceptron_tagger is already up-to-\n",
      "[nltk_data]       date!\n",
      "[nltk_data] Downloading package conll2000 to\n",
      "[nltk_data]     /Users/prabhatjohl/nltk_data...\n",
      "[nltk_data]   Package conll2000 is already up-to-date!\n",
      "[nltk_data] Downloading package movie_reviews to\n",
      "[nltk_data]     /Users/prabhatjohl/nltk_data...\n",
      "[nltk_data]   Package movie_reviews is already up-to-date!\n",
      "Finished.\n"
     ]
    }
   ],
   "source": [
    "import numpy as np\n",
    "import pandas as pd\n",
    "from pandas.io.json import json_normalize\n",
    "import pip\n",
    "pip.main(['install', 'requests'])\n",
    "pip.main([\"install\",\"Twitter\"])\n",
    "import  twitter\n",
    "from twitter import Twitter\n",
    "from twitter import OAuth\n",
    "import matplotlib.pyplot as plt\n",
    "\n",
    "!python -m textblob.download_corpora\n",
    "from  textblob import TextBlob\n",
    "\n"
   ]
  },
  {
   "cell_type": "code",
   "execution_count": 35,
   "metadata": {
    "collapsed": true
   },
   "outputs": [],
   "source": [
    "ck=\"OwENz4tXuarnZIi0PKtmfhlh7\"\n",
    "cs=\"L3IOhPkMhKyFH6zAHcQEKLqRWBwDIwPdRiexcBs0j11rtkVdPO\"\n",
    "at=\"451334829-k8h4sCMhPTqd9JhhlqzoJcvMAZSdk6v3mlJc91cY\"\n",
    "ats=\"d6JdyHLrP1VkxXccadjlxvTN2YWi6f0IxeqtHl0jrM3lV\"\n",
    "\n",
    "oauth=  OAuth(at,ats,ck,cs)\n",
    "api= Twitter(auth=oauth)"
   ]
  },
  {
   "cell_type": "code",
   "execution_count": 36,
   "metadata": {
    "collapsed": true
   },
   "outputs": [],
   "source": [
    "query = api.search.tweets(q='Blackpanther', count=1000)\n",
    "mid=0;\n",
    "df=pd.DataFrame()    \n",
    "for i in range(10):\n",
    "    if i==0:\n",
    "        search_result= api.search.tweets(q=\"Blackpanther\", count=100)\n",
    "    else:\n",
    "        search_result= api.search.tweets(q=\"Blackpanther\", count=100, max_id=mid)\n",
    "    \n",
    "        dftemp= json_normalize(search_result,'statuses')\n",
    "        mid= dftemp['id'].min()\n",
    "        mid=mid-1\n",
    "        df=df.append(dftemp,ignore_index=True)\n",
    "    "
   ]
  },
  {
   "cell_type": "code",
   "execution_count": 38,
   "metadata": {
    "collapsed": true
   },
   "outputs": [],
   "source": [
    "tweettext=df['text']\n",
    "\n",
    "wordlist=pd.DataFrame();\n",
    "\n",
    "\n",
    "for t in tweettext:\n",
    "    tx= TextBlob(t)\n",
    "    tx.tags\n",
    "    for word, tag in tx.tags:\n",
    "        if tag=='NN':\n",
    "            l= list(tx.noun_phrases)\n",
    "            if len(l)!=0:\n",
    "                wordlist= wordlist.append(l, ignore_index=True)"
   ]
  },
  {
   "cell_type": "code",
   "execution_count": 39,
   "metadata": {
    "scrolled": true
   },
   "outputs": [
    {
     "data": {
      "image/png": "[encoded data removed]",
      "text/plain": [
       "<matplotlib.figure.Figure at 0x1093240f0>"
      ]
     },
     "metadata": {},
     "output_type": "display_data"
    }
   ],
   "source": [
    "allword=wordlist.groupby(0).size()\n",
    "top20allwords=allword.sort_values(0,ascending=False).head(20)\n",
    "top20allwords.plot(kind='bar',title='top20') \n",
    "plt.show()\n"
   ]
  },
  {
   "cell_type": "code",
   "execution_count": null,
   "metadata": {
    "collapsed": true
   },
   "outputs": [],
   "source": []
  }
 ],
 "metadata": {
  "kernelspec": {
   "display_name": "Python 3",
   "language": "python",
   "name": "python3"
  },
  "language_info": {
   "codemirror_mode": {
    "name": "ipython",
    "version": 3
   },
   "file_extension": ".py",
   "mimetype": "text/x-python",
   "name": "python",
   "nbconvert_exporter": "python",
   "pygments_lexer": "ipython3",
   "version": "3.6.3"
  }
 },
 "nbformat": 4,
 "nbformat_minor": 2
}
